{
 "cells": [
  {
   "cell_type": "code",
   "execution_count": 1,
   "id": "f0686589",
   "metadata": {},
   "outputs": [],
   "source": [
    "import numpy as np\n",
    "import pandas as pd\n",
    "import re\n",
    "import seaborn as sns\n",
    "import matplotlib.pyplot as plt"
   ]
  },
  {
   "cell_type": "code",
   "execution_count": 2,
   "id": "ea9a2ba3",
   "metadata": {},
   "outputs": [
    {
     "name": "stderr",
     "output_type": "stream",
     "text": [
      "C:\\Users\\ronik\\AppData\\Local\\Temp\\ipykernel_18096\\2858935832.py:1: DtypeWarning: Columns (6) have mixed types. Specify dtype option on import or set low_memory=False.\n",
      "  data = pd.read_csv('matala2_cosmetics_2019-Nov.csv')\n"
     ]
    }
   ],
   "source": [
    "data = pd.read_csv('matala2_cosmetics_2019-Nov.csv')"
   ]
  },
  {
   "cell_type": "markdown",
   "id": "3073dbfa",
   "metadata": {},
   "source": [
    "#Q1"
   ]
  },
  {
   "cell_type": "code",
   "execution_count": 3,
   "id": "6867190a",
   "metadata": {},
   "outputs": [],
   "source": [
    "#changing my event time to datetime\n",
    "data['event_time'] = pd.to_datetime(data['event_time'], infer_datetime_format=True)"
   ]
  },
  {
   "cell_type": "code",
   "execution_count": 4,
   "id": "16b9bd81",
   "metadata": {},
   "outputs": [],
   "source": [
    "#sorting my values\n",
    "data=data.sort_values(['user_id',\"user_session\",\"event_time\"])"
   ]
  },
  {
   "cell_type": "code",
   "execution_count": 6,
   "id": "359aa54d",
   "metadata": {},
   "outputs": [],
   "source": [
    "data['duration_to_next_event'] = data.groupby('user_session')['event_time'].apply(lambda x: ((x.shift(-1)-x)).fillna(pd.Timedelta(seconds=0)))\n",
    "data['duration_to_next_event'] = data['duration_to_next_event'].apply(lambda x: x.total_seconds())"
   ]
  },
  {
   "cell_type": "markdown",
   "id": "73dea0cb",
   "metadata": {},
   "source": [
    "#Q2"
   ]
  },
  {
   "cell_type": "code",
   "execution_count": 7,
   "id": "10f77e35",
   "metadata": {},
   "outputs": [],
   "source": [
    "#sorting my values\n",
    "data=data.sort_values(['user_id',\"event_time\"])"
   ]
  },
  {
   "cell_type": "code",
   "execution_count": 8,
   "id": "7aa20f66",
   "metadata": {},
   "outputs": [],
   "source": [
    "data['number']=data.groupby('user_id')['event_time'].diff().fillna(pd.Timedelta(seconds=0))\n",
    "data['funnel']=data['number']>pd.Timedelta(days=5)\n",
    "data['funnel_number']=data.groupby('user_id')['funnel'].cumsum()+1\n",
    "data=data.drop(['number', 'funnel'], axis=1)"
   ]
  },
  {
   "cell_type": "markdown",
   "id": "33e7caec",
   "metadata": {},
   "source": [
    "#Q3"
   ]
  },
  {
   "cell_type": "code",
   "execution_count": 9,
   "id": "8949850f",
   "metadata": {},
   "outputs": [],
   "source": [
    "data['index']=data.groupby(['user_id','user_session','funnel_number'])['user_session'].apply(lambda x: x.shift(1)!=x).astype(int)"
   ]
  },
  {
   "cell_type": "code",
   "execution_count": 10,
   "id": "45fb3fcc",
   "metadata": {},
   "outputs": [],
   "source": [
    "#sorting my values\n",
    "data=data.sort_values(['user_id','user_session'])"
   ]
  },
  {
   "cell_type": "code",
   "execution_count": 11,
   "id": "58d50e22",
   "metadata": {},
   "outputs": [],
   "source": [
    "data['index_in_funnel']=data.groupby(['user_id','funnel_number'])['index'].cumsum()"
   ]
  },
  {
   "cell_type": "code",
   "execution_count": 12,
   "id": "d961489a",
   "metadata": {},
   "outputs": [],
   "source": [
    "#dropping my column\n",
    "data=data.drop(['index'], axis=1)"
   ]
  },
  {
   "cell_type": "code",
   "execution_count": 13,
   "id": "e6121d76",
   "metadata": {},
   "outputs": [],
   "source": [
    "#sorting my values\n",
    "data=data.sort_values(['user_id','funnel_number','index_in_funnel'])"
   ]
  },
  {
   "cell_type": "markdown",
   "id": "44631ca4",
   "metadata": {},
   "source": [
    "#Q4"
   ]
  },
  {
   "cell_type": "code",
   "execution_count": 14,
   "id": "1cc38bdb",
   "metadata": {},
   "outputs": [],
   "source": [
    "def check(val):\n",
    "    num=re.findall('[0-9]+\\.[0-9]*',val)\n",
    "    conv=float(num[0])\n",
    "    return conv"
   ]
  },
  {
   "cell_type": "code",
   "execution_count": 15,
   "id": "1f964954",
   "metadata": {},
   "outputs": [],
   "source": [
    "data['price']=data['price'].astype('str')"
   ]
  },
  {
   "cell_type": "code",
   "execution_count": 16,
   "id": "0f1f2461",
   "metadata": {},
   "outputs": [],
   "source": [
    "data['price'] =data['price'].apply(check)"
   ]
  },
  {
   "cell_type": "markdown",
   "id": "6c08204c",
   "metadata": {},
   "source": [
    "#Q5"
   ]
  },
  {
   "cell_type": "code",
   "execution_count": 17,
   "id": "b918bd18",
   "metadata": {},
   "outputs": [
    {
     "data": {
      "text/plain": [
       "<AxesSubplot:xlabel='event_type', ylabel='count'>"
      ]
     },
     "execution_count": 17,
     "metadata": {},
     "output_type": "execute_result"
    },
    {
     "data": {
      "image/png": "[encoded data removed]",
      "text/plain": [
       "<Figure size 700x400 with 1 Axes>"
      ]
     },
     "metadata": {},
     "output_type": "display_data"
    }
   ],
   "source": [
    "sns.set(style='darkgrid')\n",
    "plt.figure(figsize=(7,4)) \n",
    "sns.countplot(x=\"event_type\", palette=\"Set3\",data=data,order = data['event_type'].value_counts().index)"
   ]
  },
  {
   "cell_type": "markdown",
   "id": "1a0d5dbd",
   "metadata": {},
   "source": [
    "#Q6"
   ]
  },
  {
   "cell_type": "code",
   "execution_count": 22,
   "id": "e0d8a35d",
   "metadata": {},
   "outputs": [],
   "source": [
    "events_num=data.groupby('user_id')['user_session'].value_counts()"
   ]
  },
  {
   "cell_type": "code",
   "execution_count": 23,
   "id": "100dee6f",
   "metadata": {},
   "outputs": [],
   "source": [
    "time=data.groupby(['user_id','user_session'])['duration_to_next_event'].sum()"
   ]
  },
  {
   "cell_type": "code",
   "execution_count": 24,
   "id": "f8392ceb",
   "metadata": {},
   "outputs": [],
   "source": [
    "funnel=data.groupby(['user_id','user_session'])['funnel_number'].max()"
   ]
  },
  {
   "cell_type": "code",
   "execution_count": 25,
   "id": "325382c1",
   "metadata": {},
   "outputs": [],
   "source": [
    "index=data.groupby(['user_id','user_session'])['index_in_funnel'].max()"
   ]
  },
  {
   "cell_type": "code",
   "execution_count": 26,
   "id": "7872d073",
   "metadata": {},
   "outputs": [],
   "source": [
    "view=data[data.loc[:,'event_type']=='view']\n",
    "view_list=view.groupby(['user_id','user_session'])['product_id'].apply(list)"
   ]
  },
  {
   "cell_type": "code",
   "execution_count": 27,
   "id": "52dda9ae",
   "metadata": {},
   "outputs": [],
   "source": [
    "cart=data[data.loc[:,'event_type']=='cart']\n",
    "cart_list=cart.groupby(['user_id','user_session'])['product_id'].apply(list)"
   ]
  },
  {
   "cell_type": "code",
   "execution_count": 28,
   "id": "4a5bc87e",
   "metadata": {},
   "outputs": [],
   "source": [
    "purchase=data[data.loc[:,'event_type']=='purchase']\n",
    "purchased_list=purchase.groupby(['user_id','user_session'])['product_id'].apply(list)"
   ]
  },
  {
   "cell_type": "code",
   "execution_count": 35,
   "id": "04669090",
   "metadata": {},
   "outputs": [],
   "source": [
    "df={'num_of_events':events_num,'funnel_number':funnel, 'index_in_funnel': index, 'session_time': time, 'list_of_viewed': view_list,'list_of_added_to_cart': cart_list,'list_of_purchased': purchased_list}"
   ]
  },
  {
   "cell_type": "code",
   "execution_count": 36,
   "id": "eb3d2399",
   "metadata": {},
   "outputs": [],
   "source": [
    "session_data=pd.DataFrame(df).reset_index()"
   ]
  }
 ],
 "metadata": {
  "kernelspec": {
   "display_name": "Python 3 (ipykernel)",
   "language": "python",
   "name": "python3"
  },
  "language_info": {
   "codemirror_mode": {
    "name": "ipython",
    "version": 3
   },
   "file_extension": ".py",
   "mimetype": "text/x-python",
   "name": "python",
   "nbconvert_exporter": "python",
   "pygments_lexer": "ipython3",
   "version": "3.9.13"
  }
 },
 "nbformat": 4,
 "nbformat_minor": 5
}
